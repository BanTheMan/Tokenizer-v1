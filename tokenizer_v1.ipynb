{
 "cells": [
  {
   "cell_type": "markdown",
   "metadata": {},
   "source": [
    "Series: NLP from basic principles to LLMs NLP: (Natural Language Processing) LLMs: (Large Language Models)\n",
    "\n",
    "My first Jupyter Notebook: Tokenizers\n",
    "\n",
    "Tokenizing: How we get text to numbers.\n",
    "\n",
    "(This tokenizer has minimal safegaurds and leaves words with contractions)"
   ]
  },
  {
   "cell_type": "code",
   "execution_count": null,
   "metadata": {
    "vscode": {
     "languageId": "plaintext"
    }
   },
   "outputs": [],
   "source": [
    "# take in a setence to be tokenized\n",
    "print(\"Input a sentence to be tokenized: \\n\")\n",
    "sentence = input().lower()"
   ]
  },
  {
   "cell_type": "code",
   "execution_count": null,
   "metadata": {
    "vscode": {
     "languageId": "plaintext"
    }
   },
   "outputs": [],
   "source": [
    "# remove clutter from sentence\n",
    "sentence = sentence.replace('-', ' ').replace(',', ' ').replace('.', ' ').replace('!', ' ').replace('?', ' ').replace(':', ' ').replace(';', ' ').replace('\"', ' ')\n",
    "# check with: \n",
    "print(\"\\nNew Sentence: \\n\" + sentence)"
   ]
  }
 ],
 "metadata": {
  "language_info": {
   "name": "python"
  },
  "orig_nbformat": 4
 },
 "nbformat": 4,
 "nbformat_minor": 2
}
